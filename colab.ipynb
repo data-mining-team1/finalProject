{
 "cells": [
  {
   "cell_type": "code",
   "execution_count": 1,
   "metadata": {},
   "outputs": [
    {
     "name": "stdout",
     "output_type": "stream",
     "text": [
      "Downloading sf-crime.zip to /Users/christian/Documents/classes/dataMining/projects/finalProject\n",
      " 90%|██████████████████████████████████▍   | 37.0M/40.9M [00:00<00:00, 51.9MB/s]\n",
      "100%|██████████████████████████████████████| 40.9M/40.9M [00:00<00:00, 46.7MB/s]\n"
     ]
    }
   ],
   "source": [
    "!kaggle competitions download -c sf-crime"
   ]
  },
  {
   "cell_type": "code",
   "execution_count": 2,
   "metadata": {},
   "outputs": [
    {
     "name": "stdout",
     "output_type": "stream",
     "text": [
      "Archive:  sf-crime.zip\n",
      "  inflating: sampleSubmission.csv.zip  \n",
      "  inflating: test.csv.zip            \n",
      "  inflating: train.csv.zip           \n"
     ]
    }
   ],
   "source": [
    "!unzip -U sf-crime.zip"
   ]
  },
  {
   "cell_type": "code",
   "execution_count": 3,
   "metadata": {},
   "outputs": [
    {
     "name": "stdout",
     "output_type": "stream",
     "text": [
      "Archive:  test.csv.zip\n",
      "  inflating: test.csv                \n"
     ]
    }
   ],
   "source": [
    "!unzip -U test.csv.zip"
   ]
  },
  {
   "cell_type": "code",
   "execution_count": 5,
   "metadata": {},
   "outputs": [
    {
     "name": "stdout",
     "output_type": "stream",
     "text": [
      "Archive:  train.csv.zip\n",
      "  inflating: train.csv               \n"
     ]
    }
   ],
   "source": [
    "!unzip -U train.csv.zip"
   ]
  },
  {
   "cell_type": "code",
   "execution_count": 7,
   "metadata": {},
   "outputs": [],
   "source": [
    "import tensorflow as tf\n",
    "import matplotlib.pyplot as plt\n",
    "import numpy as np\n",
    "from tensorflow.keras.models import Sequential\n",
    "from tensorflow.keras import layers\n",
    "import random\n",
    "from sklearn.metrics import classification_report\n",
    "from sklearn.metrics import confusion_matrix\n",
    "import seaborn as sns\n",
    "import pandas as pd"
   ]
  },
  {
   "cell_type": "code",
   "execution_count": 8,
   "metadata": {},
   "outputs": [
    {
     "data": {
      "text/html": [
       "<div>\n",
       "<style scoped>\n",
       "    .dataframe tbody tr th:only-of-type {\n",
       "        vertical-align: middle;\n",
       "    }\n",
       "\n",
       "    .dataframe tbody tr th {\n",
       "        vertical-align: top;\n",
       "    }\n",
       "\n",
       "    .dataframe thead th {\n",
       "        text-align: right;\n",
       "    }\n",
       "</style>\n",
       "<table border=\"1\" class=\"dataframe\">\n",
       "  <thead>\n",
       "    <tr style=\"text-align: right;\">\n",
       "      <th></th>\n",
       "      <th>Dates</th>\n",
       "      <th>Category</th>\n",
       "      <th>Descript</th>\n",
       "      <th>DayOfWeek</th>\n",
       "      <th>PdDistrict</th>\n",
       "      <th>Resolution</th>\n",
       "      <th>Address</th>\n",
       "      <th>X</th>\n",
       "      <th>Y</th>\n",
       "    </tr>\n",
       "  </thead>\n",
       "  <tbody>\n",
       "    <tr>\n",
       "      <th>591977</th>\n",
       "      <td>2006-12-25 23:12:00</td>\n",
       "      <td>RECOVERED VEHICLE</td>\n",
       "      <td>RECOVERED VEHICLE - STOLEN OUTSIDE SF</td>\n",
       "      <td>Monday</td>\n",
       "      <td>NORTHERN</td>\n",
       "      <td>NONE</td>\n",
       "      <td>GOUGH ST / FELL ST</td>\n",
       "      <td>-122.422791</td>\n",
       "      <td>37.775951</td>\n",
       "    </tr>\n",
       "    <tr>\n",
       "      <th>594686</th>\n",
       "      <td>2006-12-03 23:25:00</td>\n",
       "      <td>ASSAULT</td>\n",
       "      <td>BATTERY OF A POLICE OFFICER</td>\n",
       "      <td>Sunday</td>\n",
       "      <td>SOUTHERN</td>\n",
       "      <td>ARREST, BOOKED</td>\n",
       "      <td>1000 Block of MARKET ST</td>\n",
       "      <td>-122.411071</td>\n",
       "      <td>37.781751</td>\n",
       "    </tr>\n",
       "    <tr>\n",
       "      <th>761595</th>\n",
       "      <td>2004-07-22 15:00:00</td>\n",
       "      <td>LARCENY/THEFT</td>\n",
       "      <td>GRAND THEFT FROM A BUILDING</td>\n",
       "      <td>Thursday</td>\n",
       "      <td>CENTRAL</td>\n",
       "      <td>ARREST, BOOKED</td>\n",
       "      <td>200 Block of SUTTER ST</td>\n",
       "      <td>-122.404828</td>\n",
       "      <td>37.789760</td>\n",
       "    </tr>\n",
       "    <tr>\n",
       "      <th>800968</th>\n",
       "      <td>2004-01-19 20:31:00</td>\n",
       "      <td>DRUG/NARCOTIC</td>\n",
       "      <td>POSSESSION OF COCAINE</td>\n",
       "      <td>Monday</td>\n",
       "      <td>MISSION</td>\n",
       "      <td>ARREST, BOOKED</td>\n",
       "      <td>MISSION ST / 16TH ST</td>\n",
       "      <td>-122.419672</td>\n",
       "      <td>37.765050</td>\n",
       "    </tr>\n",
       "    <tr>\n",
       "      <th>637109</th>\n",
       "      <td>2006-05-02 05:00:00</td>\n",
       "      <td>NON-CRIMINAL</td>\n",
       "      <td>LOST PROPERTY</td>\n",
       "      <td>Tuesday</td>\n",
       "      <td>SOUTHERN</td>\n",
       "      <td>NONE</td>\n",
       "      <td>800 Block of BRYANT ST</td>\n",
       "      <td>-122.403405</td>\n",
       "      <td>37.775421</td>\n",
       "    </tr>\n",
       "    <tr>\n",
       "      <th>594793</th>\n",
       "      <td>2006-12-03 18:00:00</td>\n",
       "      <td>WARRANTS</td>\n",
       "      <td>WARRANT ARREST</td>\n",
       "      <td>Sunday</td>\n",
       "      <td>MISSION</td>\n",
       "      <td>ARREST, BOOKED</td>\n",
       "      <td>400 Block of VALENCIA ST</td>\n",
       "      <td>-122.422073</td>\n",
       "      <td>37.766126</td>\n",
       "    </tr>\n",
       "    <tr>\n",
       "      <th>111973</th>\n",
       "      <td>2013-11-12 14:10:00</td>\n",
       "      <td>DRUG/NARCOTIC</td>\n",
       "      <td>POSSESSION OF BASE/ROCK COCAINE</td>\n",
       "      <td>Tuesday</td>\n",
       "      <td>NORTHERN</td>\n",
       "      <td>ARREST, BOOKED</td>\n",
       "      <td>300 Block of HAYES ST</td>\n",
       "      <td>-122.422159</td>\n",
       "      <td>37.776931</td>\n",
       "    </tr>\n",
       "    <tr>\n",
       "      <th>113820</th>\n",
       "      <td>2013-11-01 02:13:00</td>\n",
       "      <td>OTHER OFFENSES</td>\n",
       "      <td>TRAFFIC VIOLATION</td>\n",
       "      <td>Friday</td>\n",
       "      <td>INGLESIDE</td>\n",
       "      <td>ARREST, CITED</td>\n",
       "      <td>MISSION ST / ITALY AV</td>\n",
       "      <td>-122.439501</td>\n",
       "      <td>37.718467</td>\n",
       "    </tr>\n",
       "    <tr>\n",
       "      <th>237770</th>\n",
       "      <td>2012-03-06 16:00:00</td>\n",
       "      <td>VANDALISM</td>\n",
       "      <td>MALICIOUS MISCHIEF, GRAFFITI</td>\n",
       "      <td>Tuesday</td>\n",
       "      <td>PARK</td>\n",
       "      <td>NONE</td>\n",
       "      <td>0 Block of SUNVIEW DR</td>\n",
       "      <td>-122.446515</td>\n",
       "      <td>37.747314</td>\n",
       "    </tr>\n",
       "    <tr>\n",
       "      <th>444440</th>\n",
       "      <td>2009-02-07 19:21:00</td>\n",
       "      <td>ASSAULT</td>\n",
       "      <td>BATTERY</td>\n",
       "      <td>Saturday</td>\n",
       "      <td>CENTRAL</td>\n",
       "      <td>UNFOUNDED</td>\n",
       "      <td>0 Block of GEARY ST</td>\n",
       "      <td>-122.404278</td>\n",
       "      <td>37.787919</td>\n",
       "    </tr>\n",
       "  </tbody>\n",
       "</table>\n",
       "</div>"
      ],
      "text/plain": [
       "                      Dates           Category  \\\n",
       "591977  2006-12-25 23:12:00  RECOVERED VEHICLE   \n",
       "594686  2006-12-03 23:25:00            ASSAULT   \n",
       "761595  2004-07-22 15:00:00      LARCENY/THEFT   \n",
       "800968  2004-01-19 20:31:00      DRUG/NARCOTIC   \n",
       "637109  2006-05-02 05:00:00       NON-CRIMINAL   \n",
       "594793  2006-12-03 18:00:00           WARRANTS   \n",
       "111973  2013-11-12 14:10:00      DRUG/NARCOTIC   \n",
       "113820  2013-11-01 02:13:00     OTHER OFFENSES   \n",
       "237770  2012-03-06 16:00:00          VANDALISM   \n",
       "444440  2009-02-07 19:21:00            ASSAULT   \n",
       "\n",
       "                                     Descript DayOfWeek PdDistrict  \\\n",
       "591977  RECOVERED VEHICLE - STOLEN OUTSIDE SF    Monday   NORTHERN   \n",
       "594686            BATTERY OF A POLICE OFFICER    Sunday   SOUTHERN   \n",
       "761595            GRAND THEFT FROM A BUILDING  Thursday    CENTRAL   \n",
       "800968                  POSSESSION OF COCAINE    Monday    MISSION   \n",
       "637109                          LOST PROPERTY   Tuesday   SOUTHERN   \n",
       "594793                         WARRANT ARREST    Sunday    MISSION   \n",
       "111973        POSSESSION OF BASE/ROCK COCAINE   Tuesday   NORTHERN   \n",
       "113820                      TRAFFIC VIOLATION    Friday  INGLESIDE   \n",
       "237770           MALICIOUS MISCHIEF, GRAFFITI   Tuesday       PARK   \n",
       "444440                                BATTERY  Saturday    CENTRAL   \n",
       "\n",
       "            Resolution                   Address           X          Y  \n",
       "591977            NONE        GOUGH ST / FELL ST -122.422791  37.775951  \n",
       "594686  ARREST, BOOKED   1000 Block of MARKET ST -122.411071  37.781751  \n",
       "761595  ARREST, BOOKED    200 Block of SUTTER ST -122.404828  37.789760  \n",
       "800968  ARREST, BOOKED      MISSION ST / 16TH ST -122.419672  37.765050  \n",
       "637109            NONE    800 Block of BRYANT ST -122.403405  37.775421  \n",
       "594793  ARREST, BOOKED  400 Block of VALENCIA ST -122.422073  37.766126  \n",
       "111973  ARREST, BOOKED     300 Block of HAYES ST -122.422159  37.776931  \n",
       "113820   ARREST, CITED     MISSION ST / ITALY AV -122.439501  37.718467  \n",
       "237770            NONE     0 Block of SUNVIEW DR -122.446515  37.747314  \n",
       "444440       UNFOUNDED       0 Block of GEARY ST -122.404278  37.787919  "
      ]
     },
     "execution_count": 8,
     "metadata": {},
     "output_type": "execute_result"
    }
   ],
   "source": [
    "trainDf = pd.read_csv('train.csv')\n",
    "trainDf.sample(10)"
   ]
  },
  {
   "cell_type": "code",
   "execution_count": 11,
   "metadata": {
    "scrolled": true
   },
   "outputs": [
    {
     "ename": "NameError",
     "evalue": "name 'pd' is not defined",
     "output_type": "error",
     "traceback": [
      "\u001b[1;31m---------------------------------------------------------------------------\u001b[0m",
      "\u001b[1;31mNameError\u001b[0m                                 Traceback (most recent call last)",
      "\u001b[1;32m<ipython-input-11-395bb3a70d08>\u001b[0m in \u001b[0;36m<module>\u001b[1;34m\u001b[0m\n\u001b[1;32m----> 1\u001b[1;33m \u001b[0mtestDf\u001b[0m \u001b[1;33m=\u001b[0m \u001b[0mpd\u001b[0m\u001b[1;33m.\u001b[0m\u001b[0mread_csv\u001b[0m\u001b[1;33m(\u001b[0m\u001b[1;34m'test.csv'\u001b[0m\u001b[1;33m)\u001b[0m\u001b[1;33m\u001b[0m\u001b[1;33m\u001b[0m\u001b[0m\n\u001b[0m\u001b[0;32m      2\u001b[0m \u001b[0mtestDf\u001b[0m\u001b[1;33m.\u001b[0m\u001b[0msample\u001b[0m\u001b[1;33m(\u001b[0m\u001b[1;36m10\u001b[0m\u001b[1;33m)\u001b[0m\u001b[1;33m\u001b[0m\u001b[1;33m\u001b[0m\u001b[0m\n",
      "\u001b[1;31mNameError\u001b[0m: name 'pd' is not defined"
     ]
    }
   ],
   "source": [
    "testDf = pd.read_csv('test.csv')\n",
    "testDf.sample(10)"
   ]
  },
  {
   "cell_type": "markdown",
   "metadata": {},
   "source": [
    "# Remove Outliers from X and Y"
   ]
  },
  {
   "cell_type": "markdown",
   "metadata": {},
   "source": [
    "## Remove from trainDf"
   ]
  },
  {
   "cell_type": "code",
   "execution_count": null,
   "metadata": {},
   "outputs": [],
   "source": [
    "# X in trainingDf has outliers that equal to the max value.\n",
    "trainDf['X'].describe()"
   ]
  },
  {
   "cell_type": "code",
   "execution_count": null,
   "metadata": {},
   "outputs": [],
   "source": [
    "quantile_high_X = trainDf['X'].quantile(0.99)\n",
    "trainDf = trainDf[(trainDf['X'] < quantile_high_X)]"
   ]
  },
  {
   "cell_type": "code",
   "execution_count": null,
   "metadata": {},
   "outputs": [],
   "source": [
    "trainDf['X'].describe()"
   ]
  },
  {
   "cell_type": "code",
   "execution_count": null,
   "metadata": {},
   "outputs": [],
   "source": [
    "trainDf['Y'].describe()"
   ]
  },
  {
   "cell_type": "code",
   "execution_count": null,
   "metadata": {},
   "outputs": [],
   "source": [
    "quantile_high_Y = trainDf['Y'].quantile(0.99)\n",
    "trainDf_filtered = trainDf[(trainDf['Y'] < quantile_high_Y)]"
   ]
  },
  {
   "cell_type": "code",
   "execution_count": null,
   "metadata": {},
   "outputs": [],
   "source": [
    "trainDf['Y'].describe()"
   ]
  },
  {
   "cell_type": "markdown",
   "metadata": {},
   "source": [
    "## Remove from testDf"
   ]
  },
  {
   "cell_type": "code",
   "execution_count": null,
   "metadata": {},
   "outputs": [],
   "source": [
    "# X in testingDf has outliers that equal to the max value.\n",
    "testDf['X'].describe()"
   ]
  },
  {
   "cell_type": "code",
   "execution_count": null,
   "metadata": {},
   "outputs": [],
   "source": [
    "quantile_high_X = testDf['X'].quantile(0.99)\n",
    "testDf = testDf[(testDf['X'] < quantile_high_X)]\n",
    "testDf['X'].describe()"
   ]
  },
  {
   "cell_type": "code",
   "execution_count": null,
   "metadata": {},
   "outputs": [],
   "source": [
    "testDf['Y'].describe()"
   ]
  },
  {
   "cell_type": "markdown",
   "metadata": {},
   "source": [
    "# Transform the Dates Feature"
   ]
  },
  {
   "cell_type": "code",
   "execution_count": null,
   "metadata": {},
   "outputs": [],
   "source": [
    "# No column contains null values.\n",
    "# The data type of the Dates column is now object.\n",
    "trainDf.info()"
   ]
  },
  {
   "cell_type": "code",
   "execution_count": null,
   "metadata": {},
   "outputs": [],
   "source": [
    "# No column contains null values.\n",
    "# The data type of the Dates column is now object.\n",
    "testDf.info()"
   ]
  },
  {
   "cell_type": "code",
   "execution_count": null,
   "metadata": {},
   "outputs": [],
   "source": [
    "# Transforms the data type of the Dates columns to datetime.\n",
    "trainDf[\"Dates\"] = pd.to_datetime(trainDf[\"Dates\"], format=\"%Y-%m-%d %H:%M:%S\")\n",
    "testDf[\"Dates\"] = pd.to_datetime(testDf[\"Dates\"], format=\"%Y-%m-%d %H:%M:%S\")"
   ]
  },
  {
   "cell_type": "code",
   "execution_count": null,
   "metadata": {},
   "outputs": [],
   "source": [
    "trainDf.info()"
   ]
  },
  {
   "cell_type": "code",
   "execution_count": null,
   "metadata": {},
   "outputs": [],
   "source": [
    "testDf.info()"
   ]
  },
  {
   "cell_type": "code",
   "execution_count": null,
   "metadata": {},
   "outputs": [],
   "source": [
    "# Extracts the year out of the datetime value.\n",
    "trainDf[\"Year\"] = trainDf[\"Dates\"].map(lambda x: x.year)\n",
    "testDf[\"Year\"] = testDf[\"Dates\"].map(lambda x: x.year)"
   ]
  },
  {
   "cell_type": "code",
   "execution_count": null,
   "metadata": {},
   "outputs": [],
   "source": [
    "# Extracts the month out of the datetime value.\n",
    "trainDf[\"Month\"] = trainDf[\"Dates\"].map(lambda x: x.month)\n",
    "testDf[\"Month\"] = testDf[\"Dates\"].map(lambda x: x.month)"
   ]
  },
  {
   "cell_type": "code",
   "execution_count": null,
   "metadata": {},
   "outputs": [],
   "source": [
    "# Extracts the day out of the datetime value.\n",
    "trainDf[\"Day\"] = trainDf[\"Dates\"].map(lambda x: x.day)\n",
    "testDf[\"Day\"] = testDf[\"Dates\"].map(lambda x: x.day)"
   ]
  },
  {
   "cell_type": "code",
   "execution_count": null,
   "metadata": {},
   "outputs": [],
   "source": [
    "# Extracts the hour out of the datetime value.\n",
    "trainDf[\"Hour\"] = trainDf[\"Dates\"].map(lambda x: x.hour)\n",
    "testDf[\"Hour\"] = testDf[\"Dates\"].map(lambda x: x.hour)"
   ]
  },
  {
   "cell_type": "code",
   "execution_count": null,
   "metadata": {},
   "outputs": [],
   "source": [
    "# Extracts the minute out of the datetime value.\n",
    "trainDf[\"Minute\"] = trainDf[\"Dates\"].map(lambda x: x.minute)\n",
    "testDf[\"Minute\"] = testDf[\"Dates\"].map(lambda x: x.minute)"
   ]
  },
  {
   "cell_type": "code",
   "execution_count": null,
   "metadata": {},
   "outputs": [],
   "source": [
    "trainDf.sample(10)"
   ]
  },
  {
   "cell_type": "code",
   "execution_count": null,
   "metadata": {},
   "outputs": [],
   "source": [
    "testDf.sample(10)"
   ]
  },
  {
   "cell_type": "markdown",
   "metadata": {},
   "source": [
    "# Drop Features"
   ]
  },
  {
   "cell_type": "code",
   "execution_count": null,
   "metadata": {},
   "outputs": [],
   "source": [
    "# The Dates is decomposed to multiple columns, so it can be dropped.\n",
    "trainDf.drop(['Dates'], axis=1, inplace=True)\n",
    "testDf.drop(['Dates'], axis=1, inplace=True)\n",
    "\n",
    "# The Descript and Resolution columns do not exist in the testingDf, so they are dropped.\n",
    "trainDf.drop(['Descript'], axis=1, inplace=True)\n",
    "trainDf.drop(['Resolution'], axis=1, inplace=True)\n",
    "\n",
    "# Drop the id column in testDf because it is not in trainDf\n",
    "testDf.drop(['Id'], axis=1, inplace=True)"
   ]
  },
  {
   "cell_type": "code",
   "execution_count": null,
   "metadata": {},
   "outputs": [],
   "source": [
    "# !!! Drops the Address column. May change this line of code later!!!!\n",
    "trainDf.drop(['Address'], axis=1, inplace=True)\n",
    "testDf.drop(['Address'], axis=1, inplace=True)"
   ]
  },
  {
   "cell_type": "code",
   "execution_count": null,
   "metadata": {},
   "outputs": [],
   "source": [
    "trainDf.sample(10)"
   ]
  },
  {
   "cell_type": "code",
   "execution_count": null,
   "metadata": {},
   "outputs": [],
   "source": [
    "testDf.sample(10)"
   ]
  },
  {
   "cell_type": "markdown",
   "metadata": {},
   "source": [
    "# Splitting training features and training label"
   ]
  },
  {
   "cell_type": "code",
   "execution_count": null,
   "metadata": {},
   "outputs": [],
   "source": [
    "X = trainDf.drop(\"Category\", axis=1).copy()\n",
    "Y = pd.DataFrame(trainDf.iloc[:, 0].values, columns=['Category'])"
   ]
  },
  {
   "cell_type": "markdown",
   "metadata": {},
   "source": [
    "# Feature Encoding"
   ]
  },
  {
   "cell_type": "code",
   "execution_count": null,
   "metadata": {},
   "outputs": [],
   "source": [
    "def oneHotBind(df, features):\n",
    "    dummies = pd.get_dummies(df[features])\n",
    "    res = pd.concat([df, dummies], axis=1)\n",
    "    res = res.drop(features, axis=1)\n",
    "    \n",
    "    return res"
   ]
  },
  {
   "cell_type": "code",
   "execution_count": null,
   "metadata": {},
   "outputs": [],
   "source": [
    "X = oneHotBind(X, ['DayOfWeek', 'PdDistrict'])"
   ]
  },
  {
   "cell_type": "markdown",
   "metadata": {},
   "source": [
    "## Encode Category in trainDf"
   ]
  },
  {
   "cell_type": "code",
   "execution_count": null,
   "metadata": {},
   "outputs": [],
   "source": [
    "category_list = np.sort(Y['Category'].unique())\n",
    "index_list = tuple(np.arange(0, len(category_list)))\n",
    "category = dict(zip(category_list, index_list))"
   ]
  },
  {
   "cell_type": "code",
   "execution_count": null,
   "metadata": {},
   "outputs": [],
   "source": [
    "Y['Category'].replace(category, inplace=True)\n",
    "Y.sample(10)"
   ]
  },
  {
   "cell_type": "markdown",
   "metadata": {},
   "source": [
    "# Splitting the dataset into the Training set and Test set"
   ]
  },
  {
   "cell_type": "code",
   "execution_count": null,
   "metadata": {},
   "outputs": [],
   "source": [
    "from sklearn.model_selection import train_test_split\n",
    "X_train, X_test, Y_train, Y_test = train_test_split(X, Y, test_size = 0.2, random_state = 1)"
   ]
  },
  {
   "cell_type": "code",
   "execution_count": null,
   "metadata": {},
   "outputs": [],
   "source": [
    "X_train.sample(10)"
   ]
  },
  {
   "cell_type": "code",
   "execution_count": null,
   "metadata": {},
   "outputs": [],
   "source": [
    "Y_train.sample(10)"
   ]
  },
  {
   "cell_type": "code",
   "execution_count": null,
   "metadata": {},
   "outputs": [],
   "source": [
    "X_test.sample(10)"
   ]
  },
  {
   "cell_type": "code",
   "execution_count": null,
   "metadata": {},
   "outputs": [],
   "source": [
    "Y_test.sample(10)"
   ]
  },
  {
   "cell_type": "markdown",
   "metadata": {},
   "source": [
    "# Apply Feature Scaling on X and Y"
   ]
  },
  {
   "cell_type": "code",
   "execution_count": null,
   "metadata": {},
   "outputs": [],
   "source": [
    "from sklearn.preprocessing import StandardScaler\n",
    "from sklearn.compose import ColumnTransformer\n",
    "\n",
    "# apply feature scaling on column 'X' to both X_train and X_test\n",
    "sc_x = StandardScaler()\n",
    "ct_x = ColumnTransformer([('scaler_x', sc_x, ['X'])], remainder='passthrough')\n",
    "X_train['X'] = ct_x.fit_transform(X_train)\n",
    "X_test['X'] = ct_x.transform(X_test)\n",
    "\n",
    "# apply feature scaling on column 'Y' to both X_train and X_test\n",
    "sc_y = StandardScaler()\n",
    "ct_y = ColumnTransformer([('scaler_y', sc_x, ['Y'])], remainder='passthrough')\n",
    "X_train['Y'] = ct_y.fit_transform(X_train)\n",
    "X_test['Y'] = ct_y.transform(X_test)"
   ]
  },
  {
   "cell_type": "code",
   "execution_count": null,
   "metadata": {},
   "outputs": [],
   "source": [
    "X_train.sample(10)"
   ]
  },
  {
   "cell_type": "code",
   "execution_count": null,
   "metadata": {},
   "outputs": [],
   "source": [
    "X_test.sample(10)"
   ]
  }
 ],
 "metadata": {
  "interpreter": {
   "hash": "0dd583e631f54447a855d983ebd58664e2f27a6b5fa812646bfe04bf6c39d639"
  },
  "kernelspec": {
   "display_name": "Python 3",
   "language": "python",
   "name": "python3"
  },
  "language_info": {
   "codemirror_mode": {
    "name": "ipython",
    "version": 3
   },
   "file_extension": ".py",
   "mimetype": "text/x-python",
   "name": "python",
   "nbconvert_exporter": "python",
   "pygments_lexer": "ipython3",
   "version": "3.8.8"
  }
 },
 "nbformat": 4,
 "nbformat_minor": 2
}
