{
 "cells": [
  {
   "cell_type": "code",
   "execution_count": 1,
   "metadata": {},
   "outputs": [
    {
     "name": "stdout",
     "output_type": "stream",
     "text": [
      "Downloading sf-crime.zip to /Users/christian/Documents/classes/dataMining/projects/finalProject\n",
      " 90%|██████████████████████████████████▍   | 37.0M/40.9M [00:00<00:00, 51.9MB/s]\n",
      "100%|██████████████████████████████████████| 40.9M/40.9M [00:00<00:00, 46.7MB/s]\n"
     ]
    }
   ],
   "source": [
    "!kaggle competitions download -c sf-crime"
   ]
  },
  {
   "cell_type": "code",
   "execution_count": 2,
   "metadata": {},
   "outputs": [
    {
     "name": "stdout",
     "output_type": "stream",
     "text": [
      "Archive:  sf-crime.zip\n",
      "  inflating: sampleSubmission.csv.zip  \n",
      "  inflating: test.csv.zip            \n",
      "  inflating: train.csv.zip           \n"
     ]
    }
   ],
   "source": [
    "!unzip -U sf-crime.zip"
   ]
  },
  {
   "cell_type": "code",
   "execution_count": 3,
   "metadata": {},
   "outputs": [
    {
     "name": "stdout",
     "output_type": "stream",
     "text": [
      "Archive:  test.csv.zip\n",
      "  inflating: test.csv                \n"
     ]
    }
   ],
   "source": [
    "!unzip -U test.csv.zip"
   ]
  },
  {
   "cell_type": "code",
   "execution_count": 5,
   "metadata": {},
   "outputs": [
    {
     "name": "stdout",
     "output_type": "stream",
     "text": [
      "Archive:  train.csv.zip\n",
      "  inflating: train.csv               \n"
     ]
    }
   ],
   "source": [
    "!unzip -U train.csv.zip"
   ]
  },
  {
   "cell_type": "code",
   "execution_count": 7,
   "metadata": {},
   "outputs": [],
   "source": [
    "import tensorflow as tf\n",
    "import matplotlib.pyplot as plt\n",
    "import numpy as np\n",
    "from tensorflow.keras.models import Sequential\n",
    "from tensorflow.keras import layers\n",
    "import random\n",
    "from sklearn.metrics import classification_report\n",
    "from sklearn.metrics import confusion_matrix\n",
    "import seaborn as sns\n",
    "import pandas as pd"
   ]
  },
  {
   "cell_type": "code",
   "execution_count": 8,
   "metadata": {},
   "outputs": [
    {
     "data": {
      "text/html": [
       "<div>\n",
       "<style scoped>\n",
       "    .dataframe tbody tr th:only-of-type {\n",
       "        vertical-align: middle;\n",
       "    }\n",
       "\n",
       "    .dataframe tbody tr th {\n",
       "        vertical-align: top;\n",
       "    }\n",
       "\n",
       "    .dataframe thead th {\n",
       "        text-align: right;\n",
       "    }\n",
       "</style>\n",
       "<table border=\"1\" class=\"dataframe\">\n",
       "  <thead>\n",
       "    <tr style=\"text-align: right;\">\n",
       "      <th></th>\n",
       "      <th>Dates</th>\n",
       "      <th>Category</th>\n",
       "      <th>Descript</th>\n",
       "      <th>DayOfWeek</th>\n",
       "      <th>PdDistrict</th>\n",
       "      <th>Resolution</th>\n",
       "      <th>Address</th>\n",
       "      <th>X</th>\n",
       "      <th>Y</th>\n",
       "    </tr>\n",
       "  </thead>\n",
       "  <tbody>\n",
       "    <tr>\n",
       "      <th>591977</th>\n",
       "      <td>2006-12-25 23:12:00</td>\n",
       "      <td>RECOVERED VEHICLE</td>\n",
       "      <td>RECOVERED VEHICLE - STOLEN OUTSIDE SF</td>\n",
       "      <td>Monday</td>\n",
       "      <td>NORTHERN</td>\n",
       "      <td>NONE</td>\n",
       "      <td>GOUGH ST / FELL ST</td>\n",
       "      <td>-122.422791</td>\n",
       "      <td>37.775951</td>\n",
       "    </tr>\n",
       "    <tr>\n",
       "      <th>594686</th>\n",
       "      <td>2006-12-03 23:25:00</td>\n",
       "      <td>ASSAULT</td>\n",
       "      <td>BATTERY OF A POLICE OFFICER</td>\n",
       "      <td>Sunday</td>\n",
       "      <td>SOUTHERN</td>\n",
       "      <td>ARREST, BOOKED</td>\n",
       "      <td>1000 Block of MARKET ST</td>\n",
       "      <td>-122.411071</td>\n",
       "      <td>37.781751</td>\n",
       "    </tr>\n",
       "    <tr>\n",
       "      <th>761595</th>\n",
       "      <td>2004-07-22 15:00:00</td>\n",
       "      <td>LARCENY/THEFT</td>\n",
       "      <td>GRAND THEFT FROM A BUILDING</td>\n",
       "      <td>Thursday</td>\n",
       "      <td>CENTRAL</td>\n",
       "      <td>ARREST, BOOKED</td>\n",
       "      <td>200 Block of SUTTER ST</td>\n",
       "      <td>-122.404828</td>\n",
       "      <td>37.789760</td>\n",
       "    </tr>\n",
       "    <tr>\n",
       "      <th>800968</th>\n",
       "      <td>2004-01-19 20:31:00</td>\n",
       "      <td>DRUG/NARCOTIC</td>\n",
       "      <td>POSSESSION OF COCAINE</td>\n",
       "      <td>Monday</td>\n",
       "      <td>MISSION</td>\n",
       "      <td>ARREST, BOOKED</td>\n",
       "      <td>MISSION ST / 16TH ST</td>\n",
       "      <td>-122.419672</td>\n",
       "      <td>37.765050</td>\n",
       "    </tr>\n",
       "    <tr>\n",
       "      <th>637109</th>\n",
       "      <td>2006-05-02 05:00:00</td>\n",
       "      <td>NON-CRIMINAL</td>\n",
       "      <td>LOST PROPERTY</td>\n",
       "      <td>Tuesday</td>\n",
       "      <td>SOUTHERN</td>\n",
       "      <td>NONE</td>\n",
       "      <td>800 Block of BRYANT ST</td>\n",
       "      <td>-122.403405</td>\n",
       "      <td>37.775421</td>\n",
       "    </tr>\n",
       "    <tr>\n",
       "      <th>594793</th>\n",
       "      <td>2006-12-03 18:00:00</td>\n",
       "      <td>WARRANTS</td>\n",
       "      <td>WARRANT ARREST</td>\n",
       "      <td>Sunday</td>\n",
       "      <td>MISSION</td>\n",
       "      <td>ARREST, BOOKED</td>\n",
       "      <td>400 Block of VALENCIA ST</td>\n",
       "      <td>-122.422073</td>\n",
       "      <td>37.766126</td>\n",
       "    </tr>\n",
       "    <tr>\n",
       "      <th>111973</th>\n",
       "      <td>2013-11-12 14:10:00</td>\n",
       "      <td>DRUG/NARCOTIC</td>\n",
       "      <td>POSSESSION OF BASE/ROCK COCAINE</td>\n",
       "      <td>Tuesday</td>\n",
       "      <td>NORTHERN</td>\n",
       "      <td>ARREST, BOOKED</td>\n",
       "      <td>300 Block of HAYES ST</td>\n",
       "      <td>-122.422159</td>\n",
       "      <td>37.776931</td>\n",
       "    </tr>\n",
       "    <tr>\n",
       "      <th>113820</th>\n",
       "      <td>2013-11-01 02:13:00</td>\n",
       "      <td>OTHER OFFENSES</td>\n",
       "      <td>TRAFFIC VIOLATION</td>\n",
       "      <td>Friday</td>\n",
       "      <td>INGLESIDE</td>\n",
       "      <td>ARREST, CITED</td>\n",
       "      <td>MISSION ST / ITALY AV</td>\n",
       "      <td>-122.439501</td>\n",
       "      <td>37.718467</td>\n",
       "    </tr>\n",
       "    <tr>\n",
       "      <th>237770</th>\n",
       "      <td>2012-03-06 16:00:00</td>\n",
       "      <td>VANDALISM</td>\n",
       "      <td>MALICIOUS MISCHIEF, GRAFFITI</td>\n",
       "      <td>Tuesday</td>\n",
       "      <td>PARK</td>\n",
       "      <td>NONE</td>\n",
       "      <td>0 Block of SUNVIEW DR</td>\n",
       "      <td>-122.446515</td>\n",
       "      <td>37.747314</td>\n",
       "    </tr>\n",
       "    <tr>\n",
       "      <th>444440</th>\n",
       "      <td>2009-02-07 19:21:00</td>\n",
       "      <td>ASSAULT</td>\n",
       "      <td>BATTERY</td>\n",
       "      <td>Saturday</td>\n",
       "      <td>CENTRAL</td>\n",
       "      <td>UNFOUNDED</td>\n",
       "      <td>0 Block of GEARY ST</td>\n",
       "      <td>-122.404278</td>\n",
       "      <td>37.787919</td>\n",
       "    </tr>\n",
       "  </tbody>\n",
       "</table>\n",
       "</div>"
      ],
      "text/plain": [
       "                      Dates           Category  \\\n",
       "591977  2006-12-25 23:12:00  RECOVERED VEHICLE   \n",
       "594686  2006-12-03 23:25:00            ASSAULT   \n",
       "761595  2004-07-22 15:00:00      LARCENY/THEFT   \n",
       "800968  2004-01-19 20:31:00      DRUG/NARCOTIC   \n",
       "637109  2006-05-02 05:00:00       NON-CRIMINAL   \n",
       "594793  2006-12-03 18:00:00           WARRANTS   \n",
       "111973  2013-11-12 14:10:00      DRUG/NARCOTIC   \n",
       "113820  2013-11-01 02:13:00     OTHER OFFENSES   \n",
       "237770  2012-03-06 16:00:00          VANDALISM   \n",
       "444440  2009-02-07 19:21:00            ASSAULT   \n",
       "\n",
       "                                     Descript DayOfWeek PdDistrict  \\\n",
       "591977  RECOVERED VEHICLE - STOLEN OUTSIDE SF    Monday   NORTHERN   \n",
       "594686            BATTERY OF A POLICE OFFICER    Sunday   SOUTHERN   \n",
       "761595            GRAND THEFT FROM A BUILDING  Thursday    CENTRAL   \n",
       "800968                  POSSESSION OF COCAINE    Monday    MISSION   \n",
       "637109                          LOST PROPERTY   Tuesday   SOUTHERN   \n",
       "594793                         WARRANT ARREST    Sunday    MISSION   \n",
       "111973        POSSESSION OF BASE/ROCK COCAINE   Tuesday   NORTHERN   \n",
       "113820                      TRAFFIC VIOLATION    Friday  INGLESIDE   \n",
       "237770           MALICIOUS MISCHIEF, GRAFFITI   Tuesday       PARK   \n",
       "444440                                BATTERY  Saturday    CENTRAL   \n",
       "\n",
       "            Resolution                   Address           X          Y  \n",
       "591977            NONE        GOUGH ST / FELL ST -122.422791  37.775951  \n",
       "594686  ARREST, BOOKED   1000 Block of MARKET ST -122.411071  37.781751  \n",
       "761595  ARREST, BOOKED    200 Block of SUTTER ST -122.404828  37.789760  \n",
       "800968  ARREST, BOOKED      MISSION ST / 16TH ST -122.419672  37.765050  \n",
       "637109            NONE    800 Block of BRYANT ST -122.403405  37.775421  \n",
       "594793  ARREST, BOOKED  400 Block of VALENCIA ST -122.422073  37.766126  \n",
       "111973  ARREST, BOOKED     300 Block of HAYES ST -122.422159  37.776931  \n",
       "113820   ARREST, CITED     MISSION ST / ITALY AV -122.439501  37.718467  \n",
       "237770            NONE     0 Block of SUNVIEW DR -122.446515  37.747314  \n",
       "444440       UNFOUNDED       0 Block of GEARY ST -122.404278  37.787919  "
      ]
     },
     "execution_count": 8,
     "metadata": {},
     "output_type": "execute_result"
    }
   ],
   "source": [
    "trainDf = pd.read_csv('train.csv')\n",
    "trainDf.sample(10)"
   ]
  },
  {
   "cell_type": "code",
   "execution_count": 9,
   "metadata": {
    "scrolled": true
   },
   "outputs": [
    {
     "data": {
      "text/html": [
       "<div>\n",
       "<style scoped>\n",
       "    .dataframe tbody tr th:only-of-type {\n",
       "        vertical-align: middle;\n",
       "    }\n",
       "\n",
       "    .dataframe tbody tr th {\n",
       "        vertical-align: top;\n",
       "    }\n",
       "\n",
       "    .dataframe thead th {\n",
       "        text-align: right;\n",
       "    }\n",
       "</style>\n",
       "<table border=\"1\" class=\"dataframe\">\n",
       "  <thead>\n",
       "    <tr style=\"text-align: right;\">\n",
       "      <th></th>\n",
       "      <th>Id</th>\n",
       "      <th>Dates</th>\n",
       "      <th>DayOfWeek</th>\n",
       "      <th>PdDistrict</th>\n",
       "      <th>Address</th>\n",
       "      <th>X</th>\n",
       "      <th>Y</th>\n",
       "    </tr>\n",
       "  </thead>\n",
       "  <tbody>\n",
       "    <tr>\n",
       "      <th>755847</th>\n",
       "      <td>755847</td>\n",
       "      <td>2004-09-11 09:35:00</td>\n",
       "      <td>Saturday</td>\n",
       "      <td>TARAVAL</td>\n",
       "      <td>2300 Block of 30TH AV</td>\n",
       "      <td>-122.487471</td>\n",
       "      <td>37.743450</td>\n",
       "    </tr>\n",
       "    <tr>\n",
       "      <th>755693</th>\n",
       "      <td>755693</td>\n",
       "      <td>2004-09-11 19:00:00</td>\n",
       "      <td>Saturday</td>\n",
       "      <td>NORTHERN</td>\n",
       "      <td>GEARY ST / VAN NESS AV</td>\n",
       "      <td>-122.421396</td>\n",
       "      <td>37.785684</td>\n",
       "    </tr>\n",
       "    <tr>\n",
       "      <th>356404</th>\n",
       "      <td>356404</td>\n",
       "      <td>2010-05-25 09:00:00</td>\n",
       "      <td>Tuesday</td>\n",
       "      <td>RICHMOND</td>\n",
       "      <td>4300 Block of BALBOA ST</td>\n",
       "      <td>-122.505365</td>\n",
       "      <td>37.775402</td>\n",
       "    </tr>\n",
       "    <tr>\n",
       "      <th>108185</th>\n",
       "      <td>108185</td>\n",
       "      <td>2013-12-06 18:00:00</td>\n",
       "      <td>Friday</td>\n",
       "      <td>SOUTHERN</td>\n",
       "      <td>1ST ST / HOWARD ST</td>\n",
       "      <td>-122.396039</td>\n",
       "      <td>37.788537</td>\n",
       "    </tr>\n",
       "    <tr>\n",
       "      <th>621899</th>\n",
       "      <td>621899</td>\n",
       "      <td>2006-08-04 15:00:00</td>\n",
       "      <td>Friday</td>\n",
       "      <td>PARK</td>\n",
       "      <td>500 Block of CENTRAL AV</td>\n",
       "      <td>-122.444432</td>\n",
       "      <td>37.774635</td>\n",
       "    </tr>\n",
       "    <tr>\n",
       "      <th>237330</th>\n",
       "      <td>237330</td>\n",
       "      <td>2012-03-12 08:46:00</td>\n",
       "      <td>Monday</td>\n",
       "      <td>BAYVIEW</td>\n",
       "      <td>2400 Block of SAN BRUNO AV</td>\n",
       "      <td>-122.404952</td>\n",
       "      <td>37.730738</td>\n",
       "    </tr>\n",
       "    <tr>\n",
       "      <th>359662</th>\n",
       "      <td>359662</td>\n",
       "      <td>2010-05-02 14:01:00</td>\n",
       "      <td>Sunday</td>\n",
       "      <td>PARK</td>\n",
       "      <td>HAIGHT ST / COLE ST</td>\n",
       "      <td>-122.450710</td>\n",
       "      <td>37.769526</td>\n",
       "    </tr>\n",
       "    <tr>\n",
       "      <th>633401</th>\n",
       "      <td>633401</td>\n",
       "      <td>2006-06-06 20:25:00</td>\n",
       "      <td>Tuesday</td>\n",
       "      <td>INGLESIDE</td>\n",
       "      <td>MISSION ST / EXCELSIOR AV</td>\n",
       "      <td>-122.433623</td>\n",
       "      <td>37.726236</td>\n",
       "    </tr>\n",
       "    <tr>\n",
       "      <th>397679</th>\n",
       "      <td>397679</td>\n",
       "      <td>2009-10-19 11:05:00</td>\n",
       "      <td>Monday</td>\n",
       "      <td>NORTHERN</td>\n",
       "      <td>VANNESS AV / TURK ST</td>\n",
       "      <td>-122.420642</td>\n",
       "      <td>37.781961</td>\n",
       "    </tr>\n",
       "    <tr>\n",
       "      <th>717270</th>\n",
       "      <td>717270</td>\n",
       "      <td>2005-03-20 06:00:00</td>\n",
       "      <td>Sunday</td>\n",
       "      <td>CENTRAL</td>\n",
       "      <td>800 Block of SUTTER ST</td>\n",
       "      <td>-122.414390</td>\n",
       "      <td>37.788545</td>\n",
       "    </tr>\n",
       "  </tbody>\n",
       "</table>\n",
       "</div>"
      ],
      "text/plain": [
       "            Id                Dates DayOfWeek PdDistrict  \\\n",
       "755847  755847  2004-09-11 09:35:00  Saturday    TARAVAL   \n",
       "755693  755693  2004-09-11 19:00:00  Saturday   NORTHERN   \n",
       "356404  356404  2010-05-25 09:00:00   Tuesday   RICHMOND   \n",
       "108185  108185  2013-12-06 18:00:00    Friday   SOUTHERN   \n",
       "621899  621899  2006-08-04 15:00:00    Friday       PARK   \n",
       "237330  237330  2012-03-12 08:46:00    Monday    BAYVIEW   \n",
       "359662  359662  2010-05-02 14:01:00    Sunday       PARK   \n",
       "633401  633401  2006-06-06 20:25:00   Tuesday  INGLESIDE   \n",
       "397679  397679  2009-10-19 11:05:00    Monday   NORTHERN   \n",
       "717270  717270  2005-03-20 06:00:00    Sunday    CENTRAL   \n",
       "\n",
       "                           Address           X          Y  \n",
       "755847       2300 Block of 30TH AV -122.487471  37.743450  \n",
       "755693      GEARY ST / VAN NESS AV -122.421396  37.785684  \n",
       "356404     4300 Block of BALBOA ST -122.505365  37.775402  \n",
       "108185          1ST ST / HOWARD ST -122.396039  37.788537  \n",
       "621899     500 Block of CENTRAL AV -122.444432  37.774635  \n",
       "237330  2400 Block of SAN BRUNO AV -122.404952  37.730738  \n",
       "359662         HAIGHT ST / COLE ST -122.450710  37.769526  \n",
       "633401   MISSION ST / EXCELSIOR AV -122.433623  37.726236  \n",
       "397679        VANNESS AV / TURK ST -122.420642  37.781961  \n",
       "717270      800 Block of SUTTER ST -122.414390  37.788545  "
      ]
     },
     "execution_count": 9,
     "metadata": {},
     "output_type": "execute_result"
    }
   ],
   "source": [
    "testDf = pd.read_csv('test.csv')\n",
    "testDf.sample(10)"
   ]
  },
  {
   "cell_type": "markdown",
   "metadata": {},
   "source": [
    "# Remove Outliers from X and Y"
   ]
  },
  {
   "cell_type": "markdown",
   "metadata": {},
   "source": [
    "## Remove from trainDf"
   ]
  },
  {
   "cell_type": "code",
   "execution_count": null,
   "metadata": {},
   "outputs": [],
   "source": [
    "# X in trainingDf has outliers that equal to the max value.\n",
    "trainDf['X'].describe()"
   ]
  },
  {
   "cell_type": "code",
   "execution_count": null,
   "metadata": {},
   "outputs": [],
   "source": [
    "quantile_low_X = trainDf['X'].quantile(0.01)\n",
    "quantile_high_X = trainDf['X'].quantile(0.99)\n",
    "trainDf = trainDf[(trainDf['X'] < quantile_high_X) & (trainDf['X'] > quantile_low_X)]"
   ]
  },
  {
   "cell_type": "code",
   "execution_count": null,
   "metadata": {},
   "outputs": [],
   "source": [
    "trainDf['X'].describe()"
   ]
  },
  {
   "cell_type": "code",
   "execution_count": null,
   "metadata": {},
   "outputs": [],
   "source": [
    "trainDf['Y'].describe()"
   ]
  },
  {
   "cell_type": "code",
   "execution_count": null,
   "metadata": {},
   "outputs": [],
   "source": [
    "quantile_low_Y = trainDf['Y'].quantile(0.01)\n",
    "quantile_high_Y = trainDf['Y'].quantile(0.99)\n",
    "trainDf_filtered = trainDf[(trainDf['Y'] < quantile_high_Y) & (trainDf['Y'] > quantile_low_Y)]"
   ]
  },
  {
   "cell_type": "code",
   "execution_count": null,
   "metadata": {},
   "outputs": [],
   "source": [
    "trainDf['Y'].describe()"
   ]
  },
  {
   "cell_type": "markdown",
   "metadata": {},
   "source": [
    "## Remove from testDf"
   ]
  },
  {
   "cell_type": "code",
   "execution_count": null,
   "metadata": {},
   "outputs": [],
   "source": [
    "# X in testingDf has outliers that equal to the max value.\n",
    "testDf['X'].describe()"
   ]
  },
  {
   "cell_type": "code",
   "execution_count": null,
   "metadata": {},
   "outputs": [],
   "source": [
    "quantile_low_X = testDf['X'].quantile(0.01)\n",
    "quantile_high_X = testDf['X'].quantile(0.99)\n",
    "testDf = testDf[(testDf['X'] < quantile_high_X) & (testDf['X'] > quantile_low_X)]\n",
    "testDf['X'].describe()"
   ]
  },
  {
   "cell_type": "code",
   "execution_count": null,
   "metadata": {},
   "outputs": [],
   "source": [
    "testDf['Y'].describe()"
   ]
  },
  {
   "cell_type": "markdown",
   "metadata": {},
   "source": [
    "# Transform the Dates Feature"
   ]
  },
  {
   "cell_type": "code",
   "execution_count": null,
   "metadata": {},
   "outputs": [],
   "source": [
    "# No column contains null values.\n",
    "# The data type of the Dates column is now object.\n",
    "trainDf.info()"
   ]
  },
  {
   "cell_type": "code",
   "execution_count": null,
   "metadata": {},
   "outputs": [],
   "source": [
    "# No column contains null values.\n",
    "# The data type of the Dates column is now object.\n",
    "testDf.info()"
   ]
  },
  {
   "cell_type": "code",
   "execution_count": null,
   "metadata": {},
   "outputs": [],
   "source": [
    "# Transforms the data type of the Dates columns to datetime.\n",
    "trainDf[\"Dates\"] = pd.to_datetime(trainDf[\"Dates\"], format=\"%Y-%m-%d %H:%M:%S\")\n",
    "testDf[\"Dates\"] = pd.to_datetime(testDf[\"Dates\"], format=\"%Y-%m-%d %H:%M:%S\")"
   ]
  },
  {
   "cell_type": "code",
   "execution_count": null,
   "metadata": {},
   "outputs": [],
   "source": [
    "trainDf.info()"
   ]
  },
  {
   "cell_type": "code",
   "execution_count": null,
   "metadata": {},
   "outputs": [],
   "source": [
    "testDf.info()"
   ]
  },
  {
   "cell_type": "code",
   "execution_count": null,
   "metadata": {},
   "outputs": [],
   "source": [
    "# Extracts the year out of the datetime value.\n",
    "trainDf[\"Year\"] = trainDf[\"Dates\"].map(lambda x: x.year)\n",
    "testDf[\"Year\"] = testDf[\"Dates\"].map(lambda x: x.year)"
   ]
  },
  {
   "cell_type": "code",
   "execution_count": null,
   "metadata": {},
   "outputs": [],
   "source": [
    "# Extracts the month out of the datetime value.\n",
    "trainDf[\"Month\"] = trainDf[\"Dates\"].map(lambda x: x.month)\n",
    "testDf[\"Month\"] = testDf[\"Dates\"].map(lambda x: x.month)"
   ]
  },
  {
   "cell_type": "code",
   "execution_count": null,
   "metadata": {},
   "outputs": [],
   "source": [
    "# Extracts the day out of the datetime value.\n",
    "trainDf[\"Day\"] = trainDf[\"Dates\"].map(lambda x: x.day)\n",
    "testDf[\"Day\"] = testDf[\"Dates\"].map(lambda x: x.day)"
   ]
  },
  {
   "cell_type": "code",
   "execution_count": null,
   "metadata": {},
   "outputs": [],
   "source": [
    "# Extracts the hour out of the datetime value.\n",
    "trainDf[\"Hour\"] = trainDf[\"Dates\"].map(lambda x: x.hour)\n",
    "testDf[\"Hour\"] = testDf[\"Dates\"].map(lambda x: x.hour)"
   ]
  },
  {
   "cell_type": "code",
   "execution_count": null,
   "metadata": {},
   "outputs": [],
   "source": [
    "# Extracts the minute out of the datetime value.\n",
    "trainDf[\"Minute\"] = trainDf[\"Dates\"].map(lambda x: x.minute)\n",
    "testDf[\"Minute\"] = testDf[\"Dates\"].map(lambda x: x.minute)"
   ]
  },
  {
   "cell_type": "code",
   "execution_count": null,
   "metadata": {},
   "outputs": [],
   "source": [
    "trainDf.sample(10)"
   ]
  },
  {
   "cell_type": "code",
   "execution_count": null,
   "metadata": {},
   "outputs": [],
   "source": [
    "testDf.sample(10)"
   ]
  },
  {
   "cell_type": "markdown",
   "metadata": {},
   "source": [
    "# Drop Features"
   ]
  },
  {
   "cell_type": "code",
   "execution_count": null,
   "metadata": {},
   "outputs": [],
   "source": [
    "# The Dates is decomposed to multiple columns, so it can be dropped.\n",
    "trainDf.drop(['Dates'], axis=1, inplace=True)\n",
    "testDf.drop(['Dates'], axis=1, inplace=True)\n",
    "\n",
    "# The Descript and Resolution columns do not exist in the testingDf, so they are dropped.\n",
    "trainDf.drop(['Descript'], axis=1, inplace=True)\n",
    "\n",
    "trainDf.drop(['Resolution'], axis=1, inplace=True)"
   ]
  },
  {
   "cell_type": "code",
   "execution_count": null,
   "metadata": {},
   "outputs": [],
   "source": [
    "trainDf.sample(10)"
   ]
  },
  {
   "cell_type": "code",
   "execution_count": null,
   "metadata": {},
   "outputs": [],
   "source": [
    "testDf.sample(10)"
   ]
  },
  {
   "cell_type": "markdown",
   "metadata": {},
   "source": [
    "# Feature Encoding"
   ]
  },
  {
   "cell_type": "code",
   "execution_count": null,
   "metadata": {},
   "outputs": [],
   "source": [
    "def oneHotBind(df, features):\n",
    "    dummies = pd.get_dummies(df[features])\n",
    "    res = pd.concat([df, dummies], axis=1)\n",
    "    res = res.drop(features, axis=1)\n",
    "    \n",
    "    return res"
   ]
  },
  {
   "cell_type": "code",
   "execution_count": null,
   "metadata": {},
   "outputs": [],
   "source": []
  }
 ],
 "metadata": {
  "interpreter": {
   "hash": "0dd583e631f54447a855d983ebd58664e2f27a6b5fa812646bfe04bf6c39d639"
  },
  "kernelspec": {
   "display_name": "Python 3",
   "language": "python",
   "name": "python3"
  },
  "language_info": {
   "codemirror_mode": {
    "name": "ipython",
    "version": 3
   },
   "file_extension": ".py",
   "mimetype": "text/x-python",
   "name": "python",
   "nbconvert_exporter": "python",
   "pygments_lexer": "ipython3",
   "version": "3.8.8"
  }
 },
 "nbformat": 4,
 "nbformat_minor": 2
}
